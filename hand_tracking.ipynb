{
 "cells": [
  {
   "cell_type": "markdown",
   "metadata": {},
   "source": [
    "#  Final project: Hand Tracking & Performing UI actions with CV"
   ]
  },
  {
   "cell_type": "markdown",
   "metadata": {},
   "source": [
    "<h3>آرمین رستمی - سامان نهاوندی پور - سعید بیات</h3>"
   ]
  },
  {
   "cell_type": "markdown",
   "metadata": {},
   "source": [
    "هدف از این پروژه استفاده از تکنیک های بینایی ماشین برای کنترل کردن ماوس و نیز اسکرول کردن با استفاده از حرکت دست می باشد.\n",
    "ابتدا توابع استفاده شده توضیح داده می شوند و درنهایت از کنار هم قرار گیری آنها هدف نهایی حاصل می شود."
   ]
  },
  {
   "cell_type": "markdown",
   "metadata": {},
   "source": [
    " تابع زیر یک فریم را که در واقع یک تصویر است به عنوان ورودی دریافت می کند و ابتدا آنرا به فضای رنگی hsv برده و سپس هیستوگرام نرمال شده بخش داخل کادر را باز می گرداند.\n",
    " علت بردن به فضای hsv  این است که در این فضا می توان رنگ و روشنایی را جدا کرد و و فقط از رنگ تصویر استفاده کرد."
   ]
  },
  {
   "cell_type": "code",
   "execution_count": null,
   "metadata": {},
   "outputs": [],
   "source": [
    "def get_histogram(frame):\n",
    "    rows, cols = frame.shape[0], frame.shape[1]\n",
    "    hsv = cv2.cvtColor(frame, cv2.COLOR_BGR2HSV)\n",
    "\n",
    "    irow = int(ROW_START * rows)\n",
    "    icol = int(COL_START * cols)\n",
    "    hsv = hsv[irow : irow + ROWS_LEN, icol : icol + COLS_LEN, :]\n",
    "\n",
    "    hist = cv2.calcHist(\n",
    "        [hsv], channels=[0, 1], mask=None, histSize=[HUE_MAX, L], ranges=[0, HUE_MAX, 0, L]\n",
    "    )\n",
    "    return cv2.normalize(hist, hist, 0, L - 1, cv2.NORM_MINMAX)"
   ]
  },
  {
   "cell_type": "markdown",
   "metadata": {},
   "source": [
    "تابع زیر یک فریم و هیستوگرام ایجاد شده توسط تابع قبلی را دریافت می کند و یک probability image  را با توجه به مقادیر رنگی داخل فریم ایجاد می کند.\n",
    "سپس تغییرات لازم در حوزه مکان را به آن اعمال می کند  و آنرا به عنوان ماسکی روی فریم ورودی اعمال می کند که درنهایت خروجی آن یک تصویر ماسک شده است که در بخش هایی که رنگ آن مشابه هیستوگرام نیست مقدار آن صفر می باشد. "
   ]
  },
  {
   "cell_type": "code",
   "execution_count": null,
   "metadata": {},
   "outputs": [],
   "source": [
    "def get_mask(frame, hist):\n",
    "    hsv_frame = cv2.cvtColor(frame, cv2.COLOR_BGR2HSV)\n",
    "\n",
    "    proj = cv2.calcBackProject(\n",
    "        [hsv_frame], channels=[0, 1], hist=hist, ranges=[0, HUE_MAX, 0, L], scale=1\n",
    "    )\n",
    "    kernel = cv2.getStructuringElement(cv2.MORPH_ELLIPSE, (29, 29))\n",
    "    proj = cv2.filter2D(proj, -1, kernel)\n",
    "\n",
    "    proj = cv2.threshold(proj, 150, L - 1, cv2.THRESH_BINARY)[1]\n",
    "\n",
    "    kernel = np.ones((5, 5), np.uint8)\n",
    "    proj = cv2.morphologyEx(proj, cv2.MORPH_CLOSE, kernel, iterations=5)\n",
    "\n",
    "    proj_3d = cv2.merge((proj, proj, proj))\n",
    "    mask = cv2.bitwise_and(frame, proj_3d)\n",
    "\n",
    "    return mask"
   ]
  },
  {
   "cell_type": "markdown",
   "metadata": {},
   "source": [
    "تابع زیر تصویر ماسک شده را دریافت می کند و بزرگترین کانتور آن را باز می گرداند."
   ]
  },
  {
   "cell_type": "code",
   "execution_count": null,
   "metadata": {},
   "outputs": [],
   "source": [
    "def get_largest_cnt(mask):\n",
    "    gray_Mask = cv2.cvtColor(mask, cv2.COLOR_BGR2GRAY)\n",
    "    thresh = cv2.threshold(gray_Mask, 0, L - 1, 0)[1]\n",
    "    contours = cv2.findContours(thresh, cv2.RETR_TREE, cv2.CHAIN_APPROX_SIMPLE)[0]\n",
    "    if len(contours) == 0:\n",
    "        return None\n",
    "    return max(contours, key=cv2.contourArea)"
   ]
  },
  {
   "cell_type": "markdown",
   "metadata": {},
   "source": [
    "تابع زیر مختصات اولین نقطه بزرگترین کانتور را پس از کاهش نویز باز می گرداند."
   ]
  },
  {
   "cell_type": "code",
   "execution_count": null,
   "metadata": {},
   "outputs": [],
   "source": [
    "def get_coordinates(mask):\n",
    "    largestCnt = get_largest_cnt(mask)\n",
    "    if largestCnt is None:\n",
    "        return None\n",
    "    coordinates = largestCnt[0][0]\n",
    "    return reduce_noise(coordinates)"
   ]
  },
  {
   "cell_type": "markdown",
   "metadata": {},
   "source": [
    "تابع زیر مقدار نقطه فعلی را با مقدار قبلی مقایسه می کند و در صورتی که اختلاف آن با مقدار قبلی از حد مشخصی کمتر باشد همان مقدار قبلی را باز می گرداند که باعث کاهش نویز نقاط می شود. "
   ]
  },
  {
   "cell_type": "code",
   "execution_count": null,
   "metadata": {},
   "outputs": [],
   "source": [
    "def reduce_noise(coordinates):\n",
    "    tolerance = 10\n",
    "    if len(motionPath) > 0:\n",
    "        lastPoint = motionPath[-1]\n",
    "        lastCol, lastRow = lastPoint[0], lastPoint[1]\n",
    "        coordinates[0] = lastCol if abs(coordinates[0] - lastCol) < tolerance else coordinates[0]\n",
    "        coordinates[1] = lastRow if abs(coordinates[1] - lastRow) < tolerance else coordinates[1]\n",
    "    return coordinates"
   ]
  },
  {
   "cell_type": "markdown",
   "metadata": {},
   "source": [
    "تابع زیر مختصات نقطه ای را دریافت کرده و آن را به مسیر حرکت دست اضافه می کند که در کاهش نویز و اسکرول کردن استفاده می شود."
   ]
  },
  {
   "cell_type": "code",
   "execution_count": null,
   "metadata": {},
   "outputs": [],
   "source": [
    "def add_to_path(coordinates):\n",
    "    maxSize = 2\n",
    "    if len(motionPath) >= maxSize:\n",
    "        motionPath.pop(0)\n",
    "    motionPath.append(coordinates)"
   ]
  },
  {
   "cell_type": "markdown",
   "metadata": {},
   "source": [
    "تکه کد زیر از یک کتابخانه پایتون استفاده می کند و توابعی را برای جابجا کردن ماوس و نیز اسکرول کردن پیاده سازی می کند."
   ]
  },
  {
   "cell_type": "code",
   "execution_count": null,
   "metadata": {},
   "outputs": [],
   "source": [
    "import pyautogui\n",
    "\n",
    "pyautogui.PAUSE = 0  # seconds to pause after function calls\n",
    "pyautogui.FAILSAFE = False  # allows the mouse to exit the window\n",
    "\n",
    "\n",
    "def move_mouse(coordinates, shape):\n",
    "    screenCols, screenRows = pyautogui.size()\n",
    "    col, row = coordinates[0], coordinates[1]\n",
    "    pyautogui.moveTo(col * screenCols / shape[1], row * screenRows / shape[0])\n",
    "\n",
    "\n",
    "def scroll(path):\n",
    "    if len(path) <= 1:\n",
    "        return\n",
    "    distance = path[-1][1] - path[-2][1]\n",
    "    pyautogui.scroll(-distance / 2)"
   ]
  },
  {
   "cell_type": "markdown",
   "metadata": {},
   "source": [
    "تابع زیر با توجه به مود انتخابی ماوس را جابجا می کند و یا اسکرول می کند."
   ]
  },
  {
   "cell_type": "code",
   "execution_count": null,
   "metadata": {},
   "outputs": [],
   "source": [
    "def perform_action(coordinates, shape, mouseAction):\n",
    "    if mouseAction:\n",
    "        move_mouse(coordinates, shape)\n",
    "    else:\n",
    "        scroll(motionPath)"
   ]
  },
  {
   "cell_type": "markdown",
   "metadata": {},
   "source": [
    "تابع زیر برای هر فریم داده شده ماسک تصویر را دریافت و نمایش می دهد و سپس مختصات نقطه را دریافت کرده و با توجه به مود انتخابی اکشن مورد نظر را انتخاب می کند."
   ]
  },
  {
   "cell_type": "code",
   "execution_count": null,
   "metadata": {},
   "outputs": [],
   "source": [
    "def run(action, hist, frame):\n",
    "    mask = get_mask(frame, hist)\n",
    "    cv2.imshow(\"Mask\", mask)\n",
    "    coordinates = get_coordinates(mask)\n",
    "    if coordinates is not None:\n",
    "        add_to_path(coordinates)\n",
    "        perform_action(coordinates, frame.shape, action)"
   ]
  },
  {
   "cell_type": "markdown",
   "metadata": {},
   "source": [
    "تابع زیر مربعی که از آن برای کالیبره کردن رنگ ها استفاده می شود را مشخص می کند."
   ]
  },
  {
   "cell_type": "code",
   "execution_count": null,
   "metadata": {},
   "outputs": [],
   "source": [
    "def draw_sampling_rectangle(frame):\n",
    "    rows, cols = frame.shape[0], frame.shape[1]\n",
    "    irow, icol = int(ROW_START * rows), int(COL_START * cols)\n",
    "    blue = (255, 0, 0)\n",
    "    thickness = 3\n",
    "    cv2.rectangle(frame, (icol, irow), (icol + COLS_LEN, irow + ROWS_LEN), blue, thickness)"
   ]
  },
  {
   "cell_type": "markdown",
   "metadata": {},
   "source": [
    "حال توابع فوق را کنار هم قرار می دهیم تا به هدف نهایی خود برسیم:"
   ]
  },
  {
   "cell_type": "markdown",
   "metadata": {},
   "source": [
    "ابتدا import کردن توابع مورد نیاز:"
   ]
  },
  {
   "cell_type": "code",
   "execution_count": null,
   "metadata": {},
   "outputs": [],
   "source": [
    "from actions import move_mouse, scroll\n",
    "import numpy as np\n",
    "import cv2\n",
    "cv2.__version__"
   ]
  },
  {
   "cell_type": "markdown",
   "metadata": {},
   "source": [
    "مشخص کردن ثوابت:"
   ]
  },
  {
   "cell_type": "code",
   "execution_count": null,
   "metadata": {},
   "outputs": [],
   "source": [
    "HUE_MAX = 180\n",
    "L = 256\n",
    "ROWS_LEN = 20\n",
    "COLS_LEN = 20\n",
    "ROW_START = 0.5\n",
    "COL_START = 0.8"
   ]
  },
  {
   "cell_type": "markdown",
   "metadata": {},
   "source": [
    "کد درایور برنامه:\n",
    "\n",
    "فریمی از وبکم دریافت می شود و برنامه منتظر فشرده شدن کلیدی میماند.\n",
    "\n",
    "سپس کاربر باید دست خود را در داخل کادر کالیبراسیون قرار دهد و دکمه C را فشار دهد.\n",
    "از دکمه های M  و  S برای تغییر مود بین اسکرول و ماوس استفاده می شود.\n",
    "در صورت فشردن X نیز برنامه متوقف می شود.\n",
    "\n",
    "اگر برنامه کالیبره شده باشد تابع run که در بالا آمده است فراخوانی می شود.\n",
    "و اگر کالیبره نشده باشد کادری رسم می شود که باید کاربر دست خود را در آن قرار داده و دکمه  C را فشار دهد."
   ]
  },
  {
   "cell_type": "code",
   "execution_count": null,
   "metadata": {},
   "outputs": [],
   "source": [
    "def pressed(key, expected):\n",
    "    return key == ord(expected)\n",
    "\n",
    "motionPath = []\n",
    "calibrated = False\n",
    "mouseAction = True\n",
    "window = cv2.VideoCapture(0)\n",
    "print(\n",
    "    \"\"\"press:\n",
    "    (C) to calibrate (move your hand to the blue rectangle)\n",
    "    (S) to switch to scroll mode\n",
    "    (M) to switch to mouse mode\n",
    "    (X) to exit\\n\"\"\"\n",
    ")\n",
    "while True:\n",
    "\n",
    "    frame = cv2.flip(window.read()[1], 1)  # flip the image because it is mirrored in webcam\n",
    "    key = cv2.waitKey(1)\n",
    "\n",
    "    if pressed(key, \"x\"):\n",
    "        print(\"X pressed. exiting...\")\n",
    "        cv2.destroyAllWindows()\n",
    "        break\n",
    "    elif pressed(key, \"c\"):\n",
    "        hist = get_histogram(frame)\n",
    "        calibrated = True\n",
    "        print(\"Calibration complete. Moving mouse with hand motions...\")\n",
    "    elif pressed(key, \"m\"):\n",
    "        mouseAction = True\n",
    "        print(\"Switched to mouse mode.\")\n",
    "    elif pressed(key, \"s\"):\n",
    "        mouseAction = False\n",
    "        print(\"Switched to scroll mode.\")\n",
    "\n",
    "    if calibrated:\n",
    "        cv2.destroyWindow(\"Window\")\n",
    "        run(mouseAction, hist, frame)\n",
    "    else:\n",
    "        draw_sampling_rectangle(frame)\n",
    "        cv2.imshow(\"Window\", frame)"
   ]
  }
 ],
 "metadata": {
  "file_extension": ".py",
  "kernelspec": {
   "display_name": "Python 3.6.8 64-bit",
   "language": "python",
   "name": "python36864bit5ab4811f1a1646afba4fff80f344d089"
  },
  "language_info": {
   "codemirror_mode": {
    "name": "ipython",
    "version": 3
   },
   "file_extension": ".py",
   "mimetype": "text/x-python",
   "name": "python",
   "nbconvert_exporter": "python",
   "pygments_lexer": "ipython3",
   "version": "3.6.8"
  },
  "mimetype": "text/x-python",
  "name": "python",
  "npconvert_exporter": "python",
  "pygments_lexer": "ipython3",
  "version": 3
 },
 "nbformat": 4,
 "nbformat_minor": 2
}
